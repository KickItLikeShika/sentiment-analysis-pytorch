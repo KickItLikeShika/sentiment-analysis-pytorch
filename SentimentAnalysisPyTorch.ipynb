{
  "nbformat": 4,
  "nbformat_minor": 0,
  "metadata": {
    "colab": {
      "name": "SentimentAnalysisPyTorch.ipynb",
      "provenance": [],
      "collapsed_sections": []
    },
    "kernelspec": {
      "name": "python3",
      "display_name": "Python 3"
    },
    "language_info": {
      "name": "python"
    },
    "accelerator": "GPU"
  },
  "cells": [
    {
      "cell_type": "code",
      "metadata": {
        "id": "_nLIJPxnYDVe"
      },
      "source": [
        "import random\n",
        "from pathlib import Path\n",
        "from collections import Counter\n",
        "\n",
        "import pandas as pd\n",
        "import numpy as np\n",
        "import torch\n",
        "import torch.nn.functional as F\n",
        "import torch.nn as nn\n",
        "import torch.optim as optim\n",
        "from google_drive_downloader import GoogleDriveDownloader as gdd\n",
        "from sklearn.feature_extraction.text import CountVectorizer\n",
        "# from torch.nn.utils.rnn import pack_padded_sequence, pad_packed_sequence\n",
        "from torch.utils.data import DataLoader, Dataset\n",
        "from tqdm import tqdm, tqdm_notebook"
      ],
      "execution_count": 1,
      "outputs": []
    },
    {
      "cell_type": "code",
      "metadata": {
        "colab": {
          "base_uri": "https://localhost:8080/"
        },
        "id": "KZL_jUipC_a7",
        "outputId": "f499af8e-8050-4e53-a344-774950317e88"
      },
      "source": [
        "random.seed(0)\n",
        "torch.manual_seed(0)"
      ],
      "execution_count": 2,
      "outputs": [
        {
          "output_type": "execute_result",
          "data": {
            "text/plain": [
              "<torch._C.Generator at 0x7f0a6a3d5b30>"
            ]
          },
          "metadata": {
            "tags": []
          },
          "execution_count": 2
        }
      ]
    },
    {
      "cell_type": "code",
      "metadata": {
        "colab": {
          "base_uri": "https://localhost:8080/"
        },
        "id": "9Wk84NyL7PV_",
        "outputId": "5bc8ccb7-dace-487f-b58f-ac127cfb53a0"
      },
      "source": [
        "device = torch.device('cuda' if torch.cuda.is_available() else 'cpu')\n",
        "device"
      ],
      "execution_count": 3,
      "outputs": [
        {
          "output_type": "execute_result",
          "data": {
            "text/plain": [
              "device(type='cuda')"
            ]
          },
          "metadata": {
            "tags": []
          },
          "execution_count": 3
        }
      ]
    },
    {
      "cell_type": "code",
      "metadata": {
        "id": "XGszv-In7S3o"
      },
      "source": [
        "DATA_PATH = 'data/imdb_reviews.csv'\n",
        "if not Path(DATA_PATH).is_file():\n",
        "    gdd.download_file_from_google_drive(\n",
        "        file_id='1zfM5E6HvKIe7f3rEt1V2gBpw5QOSSKQz',\n",
        "        dest_path=DATA_PATH,\n",
        "    )"
      ],
      "execution_count": 4,
      "outputs": []
    },
    {
      "cell_type": "code",
      "metadata": {
        "colab": {
          "base_uri": "https://localhost:8080/",
          "height": 212
        },
        "id": "L75dnEGgH3H6",
        "outputId": "9890283f-f8f7-4cac-89b9-da172a4f90ba"
      },
      "source": [
        "df = pd.read_csv(DATA_PATH)\n",
        "print(df.shape)\n",
        "df.head()"
      ],
      "execution_count": 5,
      "outputs": [
        {
          "output_type": "stream",
          "text": [
            "(62155, 2)\n"
          ],
          "name": "stdout"
        },
        {
          "output_type": "execute_result",
          "data": {
            "text/html": [
              "<div>\n",
              "<style scoped>\n",
              "    .dataframe tbody tr th:only-of-type {\n",
              "        vertical-align: middle;\n",
              "    }\n",
              "\n",
              "    .dataframe tbody tr th {\n",
              "        vertical-align: top;\n",
              "    }\n",
              "\n",
              "    .dataframe thead th {\n",
              "        text-align: right;\n",
              "    }\n",
              "</style>\n",
              "<table border=\"1\" class=\"dataframe\">\n",
              "  <thead>\n",
              "    <tr style=\"text-align: right;\">\n",
              "      <th></th>\n",
              "      <th>review</th>\n",
              "      <th>label</th>\n",
              "    </tr>\n",
              "  </thead>\n",
              "  <tbody>\n",
              "    <tr>\n",
              "      <th>0</th>\n",
              "      <td>Once again Mr. Costner has dragged out a movie...</td>\n",
              "      <td>0</td>\n",
              "    </tr>\n",
              "    <tr>\n",
              "      <th>1</th>\n",
              "      <td>This is an example of why the majority of acti...</td>\n",
              "      <td>0</td>\n",
              "    </tr>\n",
              "    <tr>\n",
              "      <th>2</th>\n",
              "      <td>First of all I hate those moronic rappers, who...</td>\n",
              "      <td>0</td>\n",
              "    </tr>\n",
              "    <tr>\n",
              "      <th>3</th>\n",
              "      <td>Not even the Beatles could write songs everyon...</td>\n",
              "      <td>0</td>\n",
              "    </tr>\n",
              "    <tr>\n",
              "      <th>4</th>\n",
              "      <td>Brass pictures (movies is not a fitting word f...</td>\n",
              "      <td>0</td>\n",
              "    </tr>\n",
              "  </tbody>\n",
              "</table>\n",
              "</div>"
            ],
            "text/plain": [
              "                                              review  label\n",
              "0  Once again Mr. Costner has dragged out a movie...      0\n",
              "1  This is an example of why the majority of acti...      0\n",
              "2  First of all I hate those moronic rappers, who...      0\n",
              "3  Not even the Beatles could write songs everyon...      0\n",
              "4  Brass pictures (movies is not a fitting word f...      0"
            ]
          },
          "metadata": {
            "tags": []
          },
          "execution_count": 5
        }
      ]
    },
    {
      "cell_type": "code",
      "metadata": {
        "id": "y_t02gEH7bha"
      },
      "source": [
        "class IMDBData(Dataset):\n",
        "    def __init__(self, df, max_seq_len):\n",
        "        self.max_seq_len = max_seq_len\n",
        "        reviews = df.review.tolist()\n",
        "        labels = df.label.tolist()\n",
        "        vectorizer = CountVectorizer(stop_words='english', min_df=0.015)\n",
        "        vectorizer.fit(reviews)\n",
        "\n",
        "        self.token2idx = vectorizer.vocabulary_\n",
        "        self.token2idx['<PAD>'] = max(self.token2idx.values()) + 1\n",
        "\n",
        "        tokenizer = vectorizer.build_analyzer()\n",
        "\n",
        "        # map the token to its idx in token2idx (if existed)\n",
        "        self.encode = lambda x: [self.token2idx[token] for token in tokenizer(x) if token in self.token2idx]\n",
        "        self.pad = lambda x: x + (self.max_seq_len - len(x)) * [self.token2idx['<PAD>']]\n",
        "\n",
        "        texts = [self.encode(text)[:self.max_seq_len] for text in reviews]\n",
        "        texts, self.labels = zip(*[(text, label) for text, label in zip(texts, labels) if text])\n",
        "\n",
        "        self.texts = [self.pad(text) for text in texts]\n",
        "\n",
        "    def __getitem__(self, i):\n",
        "        assert len(self.texts[i]) == self.max_seq_len\n",
        "        return self.texts[i], self.labels[i]\n",
        "    \n",
        "    def __len__(self):\n",
        "        return len(self.texts)"
      ],
      "execution_count": 6,
      "outputs": []
    },
    {
      "cell_type": "code",
      "metadata": {
        "colab": {
          "base_uri": "https://localhost:8080/"
        },
        "id": "eiF4jZYtC3xU",
        "outputId": "957217e2-335d-4001-ce7f-27730f561121"
      },
      "source": [
        "dataset = IMDBData(df, max_seq_len=150)\n",
        "print(len(dataset.token2idx))"
      ],
      "execution_count": 7,
      "outputs": [
        {
          "output_type": "stream",
          "text": [
            "1104\n"
          ],
          "name": "stdout"
        }
      ]
    },
    {
      "cell_type": "code",
      "metadata": {
        "id": "lxwET6ZTF2AH"
      },
      "source": [
        "def collate(batch):\n",
        "    inputs = torch.LongTensor([item[0] for item in batch])\n",
        "    target = torch.FloatTensor([item[1] for item in batch])\n",
        "    return inputs, target\n",
        "\n",
        "batch_size = 1024\n",
        "train_loader = DataLoader(dataset, batch_size=batch_size, collate_fn=collate)"
      ],
      "execution_count": 8,
      "outputs": []
    },
    {
      "cell_type": "code",
      "metadata": {
        "id": "xXxSyRQiI3UU"
      },
      "source": [
        "!wget http://nlp.stanford.edu/data/glove.6B.zip\n",
        "!unzip glove*.zip\n",
        "!ls"
      ],
      "execution_count": 9,
      "outputs": []
    },
    {
      "cell_type": "code",
      "metadata": {
        "colab": {
          "base_uri": "https://localhost:8080/"
        },
        "id": "C5jFYKgpJFHh",
        "outputId": "e1ebceec-ab9f-4733-c2b2-c899eedae051"
      },
      "source": [
        "glove_embeddings = {}\n",
        "glove_file = open('glove.6B.300d.txt')\n",
        "print('Start getting words and coefficients')\n",
        "for line in tqdm(glove_file):\n",
        "    values = line.split()\n",
        "    word = values[0]\n",
        "    coefs = np.asarray(values[1:], dtype='float32')\n",
        "    glove_embeddings[word] = coefs\n",
        "glove_file.close()\n",
        "print(f'Found {len(glove_embeddings)} word vectors.')"
      ],
      "execution_count": 10,
      "outputs": [
        {
          "output_type": "stream",
          "text": [
            "3026it [00:00, 15246.84it/s]"
          ],
          "name": "stderr"
        },
        {
          "output_type": "stream",
          "text": [
            "Start getting words and coefficients\n"
          ],
          "name": "stdout"
        },
        {
          "output_type": "stream",
          "text": [
            "400000it [00:27, 14481.19it/s]"
          ],
          "name": "stderr"
        },
        {
          "output_type": "stream",
          "text": [
            "Found 400000 word vectors.\n"
          ],
          "name": "stdout"
        },
        {
          "output_type": "stream",
          "text": [
            "\n"
          ],
          "name": "stderr"
        }
      ]
    },
    {
      "cell_type": "code",
      "metadata": {
        "colab": {
          "base_uri": "https://localhost:8080/"
        },
        "id": "Uv--48-QLA0H",
        "outputId": "ab7ac62b-bc52-4012-e669-0eedccc72ed8"
      },
      "source": [
        "embedding_matrix = np.zeros((len(dataset.token2idx) + 1, 300))\n",
        "for word, idx in dataset.token2idx.items():\n",
        "    if word in glove_embeddings.keys():\n",
        "        embedding_matrix[idx] = glove_embeddings[word]\n",
        "print(embedding_matrix.shape)"
      ],
      "execution_count": 11,
      "outputs": [
        {
          "output_type": "stream",
          "text": [
            "(1105, 300)\n"
          ],
          "name": "stdout"
        }
      ]
    },
    {
      "cell_type": "code",
      "metadata": {
        "id": "lHQWnsGkOGBS"
      },
      "source": [
        "class GRU(nn.Module):\n",
        "    def __init__(self, vocab_size, embedding_dims, hidden_size, embedding_weights):\n",
        "        super(GRU, self).__init__()\n",
        "        \n",
        "        self.n_layers = 1\n",
        "        self.hidden_size = hidden_size\n",
        "        self.batch_size = batch_size\n",
        "\n",
        "        self.embeddings = nn.Embedding(vocab_size, embedding_dims)\n",
        "        \"\"\"Learning the embeddings from scratch here gave better results than using glove.\n",
        "        If you want to use glove, just uncomment these two lines below.\n",
        "        \"\"\"\n",
        "        # self.embeddings.weight = nn.Parameter(torch.tensor(embedding_weights, dtype=torch.float32))\n",
        "        # self.embeddings.weight.requires_grad = False\n",
        "\n",
        "        self.gru = nn.GRU(\n",
        "            embedding_dims,\n",
        "            hidden_size,\n",
        "            batch_first=True,\n",
        "        )\n",
        "\n",
        "        self.fc = nn.Linear(hidden_size, 1)\n",
        "\n",
        "    def forward(self, x):\n",
        "        batch_size = x.size(0)\n",
        "\n",
        "        out_embeddings = self.embeddings(x)\n",
        "        out_gru, _ = self.gru(out_embeddings)\n",
        "        output = self.fc(out_gru[:, -1, :]).ravel()\n",
        "        return output"
      ],
      "execution_count": 19,
      "outputs": []
    },
    {
      "cell_type": "code",
      "metadata": {
        "colab": {
          "base_uri": "https://localhost:8080/"
        },
        "id": "hUGigD2WpT7H",
        "outputId": "20550dde-7d70-4fea-e9f4-ba34f32ef4c7"
      },
      "source": [
        "model = GRU(\n",
        "    embedding_matrix.shape[0],\n",
        "    embedding_matrix.shape[1],\n",
        "    128,\n",
        "    embedding_matrix\n",
        ")\n",
        "model = model.to(device)\n",
        "optimizer = optim.Adam(model.parameters(), lr=0.001)\n",
        "criteron = nn.BCEWithLogitsLoss()\n",
        "model"
      ],
      "execution_count": 20,
      "outputs": [
        {
          "output_type": "execute_result",
          "data": {
            "text/plain": [
              "GRU(\n",
              "  (embeddings): Embedding(1105, 300)\n",
              "  (gru): GRU(300, 128, batch_first=True)\n",
              "  (fc): Linear(in_features=128, out_features=1, bias=True)\n",
              ")"
            ]
          },
          "metadata": {
            "tags": []
          },
          "execution_count": 20
        }
      ]
    },
    {
      "cell_type": "code",
      "metadata": {
        "colab": {
          "base_uri": "https://localhost:8080/"
        },
        "id": "dQIhWPrVpwyu",
        "outputId": "828a2890-29c8-4a0a-bdfd-d0d8e3a6b241"
      },
      "source": [
        "model.train()\n",
        "train_losses = []\n",
        "for epoch in range(10):\n",
        "    losses = []\n",
        "    total_iters = 0\n",
        "    for input, label in tqdm(train_loader):\n",
        "        input, label = input.to(device), label.to(device)\n",
        "        optimizer.zero_grad()\n",
        "        y_pred = model(input)\n",
        "        loss = criteron(y_pred, label)\n",
        "        loss.backward()\n",
        "        nn.utils.clip_grad_norm_(model.parameters(), 3)\n",
        "        optimizer.step()\n",
        "\n",
        "        losses.append(loss.item())\n",
        "        total_iters += 1\n",
        "\n",
        "    epoch_loss = sum(losses) / total_iters\n",
        "    train_losses.append(epoch_loss)\n",
        "\n",
        "    print(f'Epoch #{epoch + 1}\\tTrain Loss: {epoch_loss:.3f}')"
      ],
      "execution_count": 21,
      "outputs": [
        {
          "output_type": "stream",
          "text": [
            "100%|██████████| 61/61 [00:04<00:00, 13.02it/s]\n",
            "  3%|▎         | 2/61 [00:00<00:04, 13.33it/s]"
          ],
          "name": "stderr"
        },
        {
          "output_type": "stream",
          "text": [
            "Epoch #1\tTrain Loss: 1.503\n"
          ],
          "name": "stdout"
        },
        {
          "output_type": "stream",
          "text": [
            "100%|██████████| 61/61 [00:04<00:00, 13.08it/s]\n",
            "  3%|▎         | 2/61 [00:00<00:04, 13.68it/s]"
          ],
          "name": "stderr"
        },
        {
          "output_type": "stream",
          "text": [
            "Epoch #2\tTrain Loss: 0.859\n"
          ],
          "name": "stdout"
        },
        {
          "output_type": "stream",
          "text": [
            "100%|██████████| 61/61 [00:04<00:00, 13.01it/s]\n",
            "  3%|▎         | 2/61 [00:00<00:04, 13.62it/s]"
          ],
          "name": "stderr"
        },
        {
          "output_type": "stream",
          "text": [
            "Epoch #3\tTrain Loss: 0.754\n"
          ],
          "name": "stdout"
        },
        {
          "output_type": "stream",
          "text": [
            "100%|██████████| 61/61 [00:04<00:00, 13.06it/s]\n",
            "  3%|▎         | 2/61 [00:00<00:04, 13.26it/s]"
          ],
          "name": "stderr"
        },
        {
          "output_type": "stream",
          "text": [
            "Epoch #4\tTrain Loss: 0.722\n"
          ],
          "name": "stdout"
        },
        {
          "output_type": "stream",
          "text": [
            "100%|██████████| 61/61 [00:04<00:00, 13.01it/s]\n",
            "  3%|▎         | 2/61 [00:00<00:04, 13.28it/s]"
          ],
          "name": "stderr"
        },
        {
          "output_type": "stream",
          "text": [
            "Epoch #5\tTrain Loss: 0.699\n"
          ],
          "name": "stdout"
        },
        {
          "output_type": "stream",
          "text": [
            "100%|██████████| 61/61 [00:04<00:00, 12.99it/s]\n",
            "  3%|▎         | 2/61 [00:00<00:04, 13.78it/s]"
          ],
          "name": "stderr"
        },
        {
          "output_type": "stream",
          "text": [
            "Epoch #6\tTrain Loss: 0.624\n"
          ],
          "name": "stdout"
        },
        {
          "output_type": "stream",
          "text": [
            "100%|██████████| 61/61 [00:04<00:00, 13.00it/s]\n",
            "  3%|▎         | 2/61 [00:00<00:04, 13.07it/s]"
          ],
          "name": "stderr"
        },
        {
          "output_type": "stream",
          "text": [
            "Epoch #7\tTrain Loss: 0.602\n"
          ],
          "name": "stdout"
        },
        {
          "output_type": "stream",
          "text": [
            "100%|██████████| 61/61 [00:04<00:00, 12.89it/s]\n",
            "  3%|▎         | 2/61 [00:00<00:04, 13.31it/s]"
          ],
          "name": "stderr"
        },
        {
          "output_type": "stream",
          "text": [
            "Epoch #8\tTrain Loss: 0.533\n"
          ],
          "name": "stdout"
        },
        {
          "output_type": "stream",
          "text": [
            "100%|██████████| 61/61 [00:04<00:00, 12.90it/s]\n",
            "  3%|▎         | 2/61 [00:00<00:04, 13.58it/s]"
          ],
          "name": "stderr"
        },
        {
          "output_type": "stream",
          "text": [
            "Epoch #9\tTrain Loss: 0.497\n"
          ],
          "name": "stdout"
        },
        {
          "output_type": "stream",
          "text": [
            "100%|██████████| 61/61 [00:04<00:00, 12.89it/s]"
          ],
          "name": "stderr"
        },
        {
          "output_type": "stream",
          "text": [
            "Epoch #10\tTrain Loss: 0.459\n"
          ],
          "name": "stdout"
        },
        {
          "output_type": "stream",
          "text": [
            "\n"
          ],
          "name": "stderr"
        }
      ]
    },
    {
      "cell_type": "code",
      "metadata": {
        "id": "nvExJ1i-q4Wb"
      },
      "source": [
        "def predict_sentiment(text):\n",
        "    model.eval()\n",
        "    with torch.no_grad():\n",
        "        test_vector = torch.LongTensor([dataset.pad(dataset.encode(text))]).to(device)\n",
        "    \n",
        "        output = model(test_vector)\n",
        "        prediction = torch.sigmoid(output).item()\n",
        "\n",
        "        if prediction > 0.5:\n",
        "            print(f'{prediction:0.3}: Positive sentiment')\n",
        "        else:\n",
        "            print(f'{prediction:0.3}: Negative sentiment')"
      ],
      "execution_count": 22,
      "outputs": []
    },
    {
      "cell_type": "code",
      "metadata": {
        "colab": {
          "base_uri": "https://localhost:8080/"
        },
        "id": "PygbueAI9pnu",
        "outputId": "172b9435-ae90-46e0-87c9-e6cc003dcad4"
      },
      "source": [
        "test_text = \"\"\"\n",
        "This poor excuse for a movie is terrible. It has been 'so good it's bad' for a\n",
        "while, and the high ratings are a good form of sarcasm, I have to admit. But\n",
        "now it has to stop. Technically inept, spoon-feeding mundane messages with the\n",
        "artistic weight of an eighties' commercial, hypocritical to say the least, it\n",
        "deserves to fall into oblivion. Mr. Derek, I hope you realize you are like that\n",
        "weird friend that everybody know is lame, but out of kindness and Christian\n",
        "duty is treated like he's cool or something. That works if you are a good\n",
        "decent human being, not if you are a horrible arrogant bully like you are. Yes,\n",
        "Mr. 'Daddy' Derek will end on the history books of the internet for being a\n",
        "delusional sour old man who thinks to be a good example for kids, but actually\n",
        "has a poster of Kim Jong-Un in his closet. Destroy this movie if you all have a\n",
        "conscience, as I hope IHE and all other youtube channel force-closed by Derek\n",
        "out of SPITE would destroy him in the courts.This poor excuse for a movie is\n",
        "terrible. It has been 'so good it's bad' for a while, and the high ratings are\n",
        "a good form of sarcasm, I have to admit. But now it has to stop. Technically\n",
        "inept, spoon-feeding mundane messages with the artistic weight of an eighties'\n",
        "commercial, hypocritical to say the least, it deserves to fall into oblivion.\n",
        "Mr. Derek, I hope you realize you are like that weird friend that everybody\n",
        "know is lame, but out of kindness and Christian duty is treated like he's cool\n",
        "or something. That works if you are a good decent human being, not if you are a\n",
        "horrible arrogant bully like you are. Yes, Mr. 'Daddy' Derek will end on the\n",
        "history books of the internet for being a delusional sour old man who thinks to\n",
        "be a good example for kids, but actually has a poster of Kim Jong-Un in his\n",
        "closet. Destroy this movie if you all have a conscience, as I hope IHE and all\n",
        "other youtube channel force-closed by Derek out of SPITE would destroy him in\n",
        "the courts.\n",
        "\"\"\"\n",
        "predict_sentiment(test_text)"
      ],
      "execution_count": 23,
      "outputs": [
        {
          "output_type": "stream",
          "text": [
            "0.157: Negative sentiment\n"
          ],
          "name": "stdout"
        }
      ]
    },
    {
      "cell_type": "code",
      "metadata": {
        "colab": {
          "base_uri": "https://localhost:8080/"
        },
        "id": "IKlUmKPC_ITq",
        "outputId": "d5915ceb-4b6b-4517-be6d-9771e55444cf"
      },
      "source": [
        "test_text = \"\"\"\n",
        "Cool Cat Saves The Kids is a symbolic masterpiece directed by Derek Savage that\n",
        "is not only satirical in the way it makes fun of the media and politics, but in\n",
        "the way in questions as how we humans live life and how society tells us to\n",
        "live life.\n",
        "\n",
        "Before I get into those details, I wanna talk about the special effects in this\n",
        "film. They are ASTONISHING, and it shocks me that Cool Cat Saves The Kids got\n",
        "snubbed by the Oscars for Best Special Effects. This film makes 2001 look like\n",
        "garbage, and the directing in this film makes Stanley Kubrick look like the\n",
        "worst director ever. You know what other film did that? Birdemic: Shock and\n",
        "Terror. Both of these films are masterpieces, but if I had to choose my\n",
        "favorite out of the 2, I would have to go with Cool Cat Saves The Kids. It is\n",
        "now my 10th favorite film of all time.\n",
        "\n",
        "Now, lets get into the symbolism: So you might be asking yourself, Why is Cool\n",
        "Cat Orange? Well, I can easily explain. Orange is a color. Orange is also a\n",
        "fruit, and its a very good fruit. You know what else is good? Good behavior.\n",
        "What behavior does Cool Cat have? He has good behavior. This cannot be a\n",
        "coincidence, since cool cat has good behavior in the film.\n",
        "\n",
        "Now, why is Butch The Bully fat? Well, fat means your wide. You wanna know who\n",
        "was wide? Hitler. Nuff said this cannot be a coincidence.\n",
        "\n",
        "Why does Erik Estrada suspect Butch The Bully to be a bully? Well look at it\n",
        "this way. What color of a shirt was Butchy wearing when he walks into the area?\n",
        "I don't know, its looks like dark purple/dark blue. Why rhymes with dark? Mark.\n",
        "Mark is that guy from the Room. The Room is the best movie of all time. What is\n",
        "the opposite of best? Worst. This is how Erik knew Butch was a bully.\n",
        "\n",
        "and finally, how come Vivica A. Fox isn't having a successful career after\n",
        "making Kill Bill.\n",
        "\n",
        "I actually can't answer that question.\n",
        "\n",
        "Well thanks for reading my review.\n",
        "\"\"\"\n",
        "predict_sentiment(test_text)"
      ],
      "execution_count": 24,
      "outputs": [
        {
          "output_type": "stream",
          "text": [
            "0.687: Positive sentiment\n"
          ],
          "name": "stdout"
        }
      ]
    },
    {
      "cell_type": "code",
      "metadata": {
        "colab": {
          "base_uri": "https://localhost:8080/"
        },
        "id": "8paHUiAWEP_V",
        "outputId": "105d7900-e0c2-4f8a-dd76-ce72a3f5449d"
      },
      "source": [
        "test_text = \"\"\"\n",
        "Don't let any bullies out there try and shape your judgment on this gem of a\n",
        "title.\n",
        "\n",
        "Some people really don't have anything better to do, except trash a great movie\n",
        "with annoying 1-star votes and spread lies on the Internet about how \"dumb\"\n",
        "Cool Cat is.\n",
        "\n",
        "I wouldn't be surprised to learn if much of the unwarranted negativity hurled\n",
        "at this movie is coming from people who haven't even watched this movie for\n",
        "themselves in the first place. Those people are no worse than the Butch the\n",
        "Bully, the film's repulsive antagonist.\n",
        "\n",
        "As it just so happens, one of the main points of \"Cool Cat Saves the Kids\" is\n",
        "in addressing the attitudes of mean naysayers who try to demean others who\n",
        "strive to bring good attitudes and fun vibes into people's lives. The message\n",
        "to be learned here is that if one is friendly and good to others, the world is\n",
        "friendly and good to one in return, and that is cool. Conversely, if one is\n",
        "miserable and leaving 1-star votes on IMDb, one is alone and doesn't have any\n",
        "friends at all. Ain't that the truth?\n",
        "\n",
        "The world has uncovered a great, new, young filmmaking talent in \"Cool Cat\"\n",
        "creator Derek Savage, and I sure hope that this is only the first of many\n",
        "amazing films and stories that the world has yet to appreciate.\n",
        "\n",
        "If you are a cool person who likes to have lots of fun, I guarantee that this\n",
        "is a movie with charm that will uplift your spirits and reaffirm your positive\n",
        "attitudes towards life.\n",
        "\"\"\"\n",
        "predict_sentiment(test_text)"
      ],
      "execution_count": 25,
      "outputs": [
        {
          "output_type": "stream",
          "text": [
            "0.953: Positive sentiment\n"
          ],
          "name": "stdout"
        }
      ]
    },
    {
      "cell_type": "code",
      "metadata": {
        "id": "hihhnKXfFGRb"
      },
      "source": [
        ""
      ],
      "execution_count": null,
      "outputs": []
    }
  ]
}